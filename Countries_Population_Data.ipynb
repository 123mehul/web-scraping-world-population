{
 "cells": [
  {
   "cell_type": "code",
   "execution_count": 18,
   "metadata": {},
   "outputs": [
    {
     "name": "stdout",
     "output_type": "stream",
     "text": [
      "   Year (July 1)     Population Yearly %  Change Yearly Change Median Age  \\\n",
      "0           2024  8,118,835,999           0.91 %    73,524,552       30.7   \n",
      "1           2023  8,045,311,447           0.88 %    70,206,291       30.5   \n",
      "2           2022  7,975,105,156           0.83 %    65,810,005       30.2   \n",
      "3           2021  7,909,295,151           0.87 %    68,342,271       30.0   \n",
      "4           2020  7,840,952,880           0.98 %    76,001,848       29.7   \n",
      "5           2015  7,426,597,537           1.23 %    88,198,886         28   \n",
      "6           2010  6,985,603,105           1.27 %    85,485,397         27   \n",
      "7           2005  6,558,176,119           1.30 %    81,855,429         26   \n",
      "8           2000  6,148,898,975           1.37 %    81,135,904         25   \n",
      "9           1995  5,743,219,454           1.56 %    85,408,718         24   \n",
      "10          1990  5,316,175,862           1.80 %    90,889,050         23   \n",
      "11          1985  4,861,730,613           1.81 %    83,544,581         22   \n",
      "12          1980  4,444,007,706           1.78 %    74,914,095         22   \n",
      "13          1975  4,069,437,231           1.95 %    74,809,379         21   \n",
      "14          1970  3,695,390,336           2.06 %    71,655,671         20   \n",
      "15          1965  3,337,111,983           2.02 %    63,575,710         21   \n",
      "16          1960  3,019,233,434           1.91 %    54,632,259         21   \n",
      "17          1955  2,746,072,141           1.90 %    49,349,997         22   \n",
      "\n",
      "   Fertility Rate Density (P/Km²)  \n",
      "0            2.31              55  \n",
      "1            2.31              54  \n",
      "2            2.31              54  \n",
      "3            2.32              53  \n",
      "4            2.35              53  \n",
      "5            2.52              50  \n",
      "6            2.59              47  \n",
      "7            2.62              44  \n",
      "8            2.73              41  \n",
      "9            2.88              39  \n",
      "10           3.31              36  \n",
      "11           3.52              33  \n",
      "12           3.75              30  \n",
      "13           4.08              27  \n",
      "14           4.83              25  \n",
      "15           5.08              22  \n",
      "16           4.70              20  \n",
      "17           5.01              18  \n"
     ]
    }
   ],
   "source": [
    "from bs4 import BeautifulSoup\n",
    "import requests\n",
    "import pandas as pd\n",
    "\n",
    "url=\"https://www.worldometers.info/world-population/\"\n",
    "r= requests.get(url)\n",
    "soup= BeautifulSoup(r.text,\"html.parser\")\n",
    "\n",
    "table=soup.find(\"table\", class_=\"table table-striped table-bordered table-hover table-condensed table-list\")\n",
    "\n",
    "headers=table.find_all(\"th\")\n",
    "titles = [header.text.strip() for header in headers]\n",
    "\n",
    "\n",
    "df = pd.DataFrame(columns=titles)\n",
    "\n",
    "rows=table.find_all(\"tr\")\n",
    "for row in rows[1:]:\n",
    "    data = row.find_all(\"td\")\n",
    "    row_data = [td.text.strip() for td in data]\n",
    "    df_length = len(df)  \n",
    "    df.loc[df_length] = row_data  \n",
    "print(df)\n",
    "\n",
    "df.to_csv(\"Countries_Population_Data.csv\")\n"
   ]
  }
 ],
 "metadata": {
  "kernelspec": {
   "display_name": "base",
   "language": "python",
   "name": "python3"
  },
  "language_info": {
   "codemirror_mode": {
    "name": "ipython",
    "version": 3
   },
   "file_extension": ".py",
   "mimetype": "text/x-python",
   "name": "python",
   "nbconvert_exporter": "python",
   "pygments_lexer": "ipython3",
   "version": "3.12.4"
  }
 },
 "nbformat": 4,
 "nbformat_minor": 2
}
